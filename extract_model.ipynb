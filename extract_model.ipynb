{
 "cells": [
  {
   "cell_type": "code",
   "execution_count": null,
   "metadata": {},
   "outputs": [],
   "source": [
    "%load_ext autoreload\n",
    "%autoreload 2"
   ]
  },
  {
   "cell_type": "code",
   "execution_count": null,
   "metadata": {},
   "outputs": [],
   "source": [
    "import math\n",
    "import sys\n",
    "import yaml\n",
    "from copy import deepcopy\n",
    "from pathlib import Path\n",
    "\n",
    "import numpy as np\n",
    "import torch\n",
    "import torch.nn as nn\n",
    "from enot.logging import prepare_log\n",
    "from enot.models import SearchSpaceModel\n",
    "from enot.models import SearchVariantsContainer"
   ]
  },
  {
   "cell_type": "code",
   "execution_count": null,
   "metadata": {},
   "outputs": [],
   "source": [
    "print(torch.__version__, torch.version.cuda, np.__version__)"
   ]
  },
  {
   "cell_type": "code",
   "execution_count": null,
   "metadata": {},
   "outputs": [],
   "source": [
    "from models.experimental import attempt_load\n",
    "from models.yolo import Model\n",
    "from models import yolo\n",
    "from utils.torch_utils import intersect_dicts\n",
    "\n",
    "yolo.LOGGER = prepare_log(log_format='%(message)s')"
   ]
  },
  {
   "cell_type": "code",
   "execution_count": null,
   "metadata": {},
   "outputs": [],
   "source": [
    "import matplotlib\n",
    "import matplotlib.pyplot as plt\n",
    "\n",
    "%matplotlib inline"
   ]
  },
  {
   "cell_type": "code",
   "execution_count": null,
   "metadata": {},
   "outputs": [],
   "source": [
    "!nvidia-smi"
   ]
  },
  {
   "cell_type": "code",
   "execution_count": null,
   "metadata": {},
   "outputs": [],
   "source": [
    "device = 'cuda:0'\n",
    "\n",
    "if 'cuda' in device:\n",
    "    torch.cuda.set_device(device)"
   ]
  },
  {
   "cell_type": "code",
   "execution_count": null,
   "metadata": {},
   "outputs": [],
   "source": [
    "# model_config = 'models/hub/yolov5l6.yaml'\n",
    "# model_config = 'models/hub/yolov5l6ss_v1.yaml'\n",
    "# model_config = 'models/yolov5lss_v2.yaml'\n",
    "model_config = 'models/yolov5sss_v1.yaml'\n",
    "\n",
    "root_directory = Path('.').absolute()\n",
    "model_config_file = root_directory / model_config"
   ]
  },
  {
   "cell_type": "code",
   "execution_count": null,
   "metadata": {},
   "outputs": [],
   "source": [
    "weights = 'weights/best.pt'"
   ]
  },
  {
   "cell_type": "code",
   "execution_count": null,
   "metadata": {},
   "outputs": [],
   "source": [
    "architecture_indices = [0, 1, 2, 3, 4, 5, 6, 7]\n",
    "# architecture_indices = [0] * 8"
   ]
  },
  {
   "cell_type": "code",
   "execution_count": null,
   "metadata": {},
   "outputs": [],
   "source": [
    "model = Model(model_config_file).to(device)\n",
    "\n",
    "search_space = None\n",
    "if any(isinstance(layer, SearchVariantsContainer) for layer in model.modules()):\n",
    "    search_space = SearchSpaceModel(model)\n",
    "\n",
    "main_model = search_space if search_space is not None else model"
   ]
  },
  {
   "cell_type": "code",
   "execution_count": null,
   "metadata": {},
   "outputs": [],
   "source": [
    "ckpt = torch.load(weights, map_location=device)  # load checkpoint\n",
    "ckpt_model = ckpt['ema']\n",
    "state_dict = ckpt_model.float().state_dict()  # checkpoint state_dict as FP32\n",
    "state_dict = intersect_dicts(state_dict, main_model.state_dict())\n",
    "main_model.load_state_dict(state_dict, strict=True)\n",
    "yolo.LOGGER.info(f'Transferred {len(state_dict)} / {len(main_model.state_dict())} items from {weights}')\n",
    "\n",
    "if search_space is not None:\n",
    "    model = search_space.get_network_by_indexes(architecture_indices)\n",
    "    search_space = None"
   ]
  },
  {
   "cell_type": "code",
   "execution_count": null,
   "metadata": {},
   "outputs": [],
   "source": [
    "from enot.utils.batch_norm import tune_bn_stats\n",
    "from utils.general import check_dataset\n",
    "from utils.datasets import create_dataloader\n",
    "import yaml\n",
    "\n",
    "def preprocess_data(x):\n",
    "    return (x[0].to(device).float() / 255.0, ), {}\n",
    "\n",
    "hyp = 'data/hyps/hyp.scratch.yaml'\n",
    "with open(hyp) as f:\n",
    "    hyp = yaml.safe_load(f)  # load hyps dict\n",
    "\n",
    "yolo.LOGGER.info('hyperparameters: ' + ', '.join(f'{k}={v}' for k, v in hyp.items()))\n",
    "gs = 32\n",
    "\n",
    "data = 'data/enot_coco.yaml'\n",
    "data_dict = check_dataset(data)\n",
    "train_path, val_path = data_dict['pretrain'], data_dict['val']\n",
    "\n",
    "\n",
    "train_loader, dataset = create_dataloader(\n",
    "    train_path,\n",
    "    640,\n",
    "    10,\n",
    "    gs,\n",
    "    hyp=hyp,\n",
    "    augment=True,\n",
    "    rect=False,\n",
    "    pad=0.0,\n",
    ")"
   ]
  },
  {
   "cell_type": "code",
   "execution_count": null,
   "metadata": {},
   "outputs": [],
   "source": [
    "tune_bn_stats(\n",
    "    model,\n",
    "    train_loader,\n",
    "    reset_bns=True,\n",
    "    set_momentums_none=True,\n",
    "    n_steps=256,\n",
    "    sample_to_model_inputs=preprocess_data,\n",
    ")"
   ]
  },
  {
   "cell_type": "code",
   "execution_count": null,
   "metadata": {},
   "outputs": [],
   "source": [
    "ckpt = torch.load(weights, map_location=device)\n",
    "ckpt['model'] = ckpt['model'].get_network_by_indexes(architecture_indices).eval().cpu()\n",
    "ckpt['ema'] = ckpt['ema'].get_network_by_indexes(architecture_indices).eval().cpu()\n",
    "torch.save(ckpt, 'weights/extract.pt')"
   ]
  },
  {
   "cell_type": "code",
   "execution_count": null,
   "metadata": {},
   "outputs": [],
   "source": [
    "def tune_bn_and_save(input_path, output_path):\n",
    "\n",
    "    model = Model(model_config_file).to(device)\n",
    "    if any(isinstance(layer, SearchVariantsContainer) for layer in model.modules()):\n",
    "        model = SearchSpaceModel(model)\n",
    "\n",
    "    ckpt = torch.load(input_path, map_location=device)\n",
    "\n",
    "    state_dict = ckpt['model'].float().state_dict()\n",
    "    state_dict = intersect_dicts(state_dict, model.state_dict())\n",
    "    model.load_state_dict(state_dict, strict=True)\n",
    "    yolo.LOGGER.info(f'Transferred {len(state_dict)} / {len(model.state_dict())} items from {input_path}')\n",
    "\n",
    "    model.sample([[x] for x in architecture_indices])\n",
    "\n",
    "    tune_bn_stats(\n",
    "        model,\n",
    "        train_loader,\n",
    "        reset_bns=True,\n",
    "        set_momentums_none=True,\n",
    "        n_steps=25,\n",
    "        sample_to_model_inputs=preprocess_data,\n",
    "    )\n",
    "\n",
    "    ckpt['model'] = deepcopy(model).cpu().half()\n",
    "\n",
    "    if 'ema' in ckpt:\n",
    "        state_dict = ckpt['ema'].float().state_dict()\n",
    "        state_dict = intersect_dicts(state_dict, model.state_dict())\n",
    "        model.load_state_dict(state_dict, strict=True)\n",
    "        yolo.LOGGER.info(f'Transferred {len(state_dict)} / {len(model.state_dict())} items from {input_path}')\n",
    "\n",
    "        model.sample([[x] for x in architecture_indices])\n",
    "\n",
    "        tune_bn_stats(\n",
    "            model,\n",
    "            train_loader,\n",
    "            reset_bns=True,\n",
    "            set_momentums_none=True,\n",
    "            n_steps=25,\n",
    "            sample_to_model_inputs=preprocess_data,\n",
    "        )\n",
    "\n",
    "        ckpt['ema'] = deepcopy(model).cpu().half()\n",
    "\n",
    "    torch.save(ckpt, output_path)\n",
    "\n",
    "tune_bn_and_save(\n",
    "    'weights/best.pt',\n",
    "    'weights/new.pt',\n",
    ")"
   ]
  },
  {
   "cell_type": "code",
   "execution_count": null,
   "metadata": {},
   "outputs": [],
   "source": []
  }
 ],
 "metadata": {
  "kernelspec": {
   "display_name": "Python (yolov5)",
   "language": "python",
   "name": "yolov5"
  },
  "language_info": {
   "codemirror_mode": {
    "name": "ipython",
    "version": 3
   },
   "file_extension": ".py",
   "mimetype": "text/x-python",
   "name": "python",
   "nbconvert_exporter": "python",
   "pygments_lexer": "ipython3",
   "version": "3.7.11"
  }
 },
 "nbformat": 4,
 "nbformat_minor": 4
}
